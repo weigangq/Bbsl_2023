{
 "cells": [
  {
   "cell_type": "markdown",
   "id": "e73ea305",
   "metadata": {},
   "source": [
    "# stitch chromosomal contigs based on nucmer results\n",
    "Input: a pad file & a fasta file\n",
    "Sherwood's check (April 7, 2023):\n",
    "Remove (somewhat messy) wraparound 4743 bp at left end.  Has telomere after this removal.\n",
    "Has a right end extension somewhat similar to that of B31 but has no right end telomere consensus.  Currently no N’s at right end.\n",
    "\n",
    "scw9.pad:\n",
    "\n",
    "unitig_7|quiver|quiver|pilon    -1      1397\n",
    "unitig_34|quiver|quiver|pilon   1       10\n",
    "unitig_6|quiver|quiver|pilon    1       743\n",
    "unitig_1|quiver|quiver|pilon    -1      1703\n",
    "unitig_35|quiver|quiver|pilon   -1      1660\n",
    "unitig_31|quiver|quiver|pilon   -1      0\n",
    "unitig_36|quiver|quiver|pilon   1       556\n",
    "unitig_5|quiver|quiver|pilon    1       277\n",
    "unitig_42|quiver|quiver|pilon   1       -36\n",
    "unitig_23|quiver|quiver|pilon   -1      2123\n",
    "unitig_27|quiver|quiver|pilon   -1      1428\n",
    "unitig_13|quiver|quiver|pilon   1       403\n",
    "unitig_41|quiver|quiver|pilon   1       960\n",
    "unitig_8|quiver|quiver|pilon    1       0"
   ]
  },
  {
   "cell_type": "code",
   "execution_count": 4,
   "id": "b789c548",
   "metadata": {},
   "outputs": [
    {
     "name": "stdout",
     "output_type": "stream",
     "text": [
      "                          seq_id  revcom   pad\n",
      "0   unitig_7|quiver|quiver|pilon      -1  1397\n",
      "1  unitig_34|quiver|quiver|pilon       1    10\n",
      "2   unitig_6|quiver|quiver|pilon       1   743\n",
      "3   unitig_1|quiver|quiver|pilon      -1  1703\n",
      "4  unitig_35|quiver|quiver|pilon      -1  1660\n",
      "11224\n"
     ]
    }
   ],
   "source": [
    "import pandas as pd\n",
    "from Bio import SeqIO\n",
    "from Bio.SeqRecord import SeqRecord\n",
    "from Bio.Seq import Seq\n",
    "\n",
    "file_in ='Broken-to-be-gapped/SCW_9.chrom.fasta'\n",
    "file_out='Broken-to-be-gapped/SCW-9-chrom-gapped-v2.fasta'\n",
    "\n",
    "df_pad = pd.read_csv(\"Broken-to-be-gapped/scw9.pad\", delimiter=\"\\t\", header=None)\n",
    "df_pad.columns = ['seq_id', 'revcom', 'pad']\n",
    "print(df_pad.head())\n",
    "print(df_pad['pad'].sum())\n"
   ]
  },
  {
   "cell_type": "code",
   "execution_count": 6,
   "id": "83b7b788",
   "metadata": {},
   "outputs": [
    {
     "name": "stdout",
     "output_type": "stream",
     "text": [
      "903241\n",
      "11224\n",
      "909722\n"
     ]
    }
   ],
   "source": [
    "seqs = {}\n",
    "for seq_record in SeqIO.parse(open (file_in, mode='r'), 'fasta'):\n",
    "    seqs[seq_record.id] = seq_record\n",
    "\n",
    "seq_str = \"\"\n",
    "contig_len = 0\n",
    "pad_len = 0\n",
    "for index, row in df_pad.iterrows():\n",
    "    id = row['seq_id']\n",
    "    revcom = row['revcom']\n",
    "    pad = row['pad']\n",
    "    \n",
    "    seq_contig = ''\n",
    "    if revcom < 0:\n",
    "        seq_contig = str(seqs[id].reverse_complement().seq)\n",
    "    else:\n",
    "        seq_contig = str(seqs[id].seq)\n",
    "        \n",
    "    contig_len += len(seqs[id].seq)\n",
    "    \n",
    "    # pad or merge\n",
    "    if pad >= 0: # gap, pad N's\n",
    "        for i in range(pad):\n",
    "            seq_contig += 'N'\n",
    "    else: # overlap, merge\n",
    "        if revcom < 0:\n",
    "            seq_contig = seq_contig[abs(pad):] # 4:end (inclusive from 5th, remove 4 bases from revcom start)\n",
    "        else:\n",
    "            seq_contig = seq_contig[:pad] # 0:-4 (remove 4 bases from seq end)          \n",
    "    \n",
    "    seq_str += seq_contig\n",
    "    pad_len += pad\n",
    "\n",
    "# remove wrap-around left 4743 bp:\n",
    "seq_str = seq_str[4743:]\n",
    "\n",
    "seq_out = SeqRecord(id = \"SCW-9_chromosome_gapped\", seq = Seq(seq_str))\n",
    "# check sum:\n",
    "print(contig_len)\n",
    "print(pad_len)\n",
    "print(len(seq_str))\n",
    "\n",
    "with open(file_out, \"w\") as f_out:\n",
    "    f_out.write(seq_out.format('fasta'))\n"
   ]
  }
 ],
 "metadata": {
  "kernelspec": {
   "display_name": "Python 3 (ipykernel)",
   "language": "python",
   "name": "python3"
  },
  "language_info": {
   "codemirror_mode": {
    "name": "ipython",
    "version": 3
   },
   "file_extension": ".py",
   "mimetype": "text/x-python",
   "name": "python",
   "nbconvert_exporter": "python",
   "pygments_lexer": "ipython3",
   "version": "3.10.8"
  }
 },
 "nbformat": 4,
 "nbformat_minor": 5
}
