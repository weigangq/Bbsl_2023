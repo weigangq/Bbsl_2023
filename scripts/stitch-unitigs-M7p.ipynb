{
 "cells": [
  {
   "cell_type": "markdown",
   "id": "e73ea305",
   "metadata": {},
   "source": [
    "# stitch chromosomal contigs based on nucmer results\n",
    "strain: M7p\n",
    "Input: a pad file & a fasta file\n",
    "Sherwood's trimming comment (April 7, 2023): No N’s at left end, but about 500 bp missing relative to other chrms.  \n",
    "Remove rightmost about 42 kbp contig; it was unitig_0 and is actually the full lp28-6 sequence including wraparounds at both ends – should not be part of chromsome.  After this removal I think there are about 2500 bp missing from right end.  Already has N’s there.\n",
    "\n",
    "trim right, stop at unitig_48\n",
    "\n",
    "m7p.pad file:\n",
    "\n",
    "unitig_18|quiver|quiver|pilon   -1      237\n",
    "unitig_54|quiver|quiver|pilon   -1      5542\n",
    "unitig_19|quiver|quiver|pilon   -1      -117\n",
    "unitig_50|quiver|quiver|pilon   -1      753\n",
    "unitig_16|quiver|quiver|pilon   -1      -25977\n",
    "unitig_70|quiver|quiver|pilon   -1      29429\n",
    "unitig_25|quiver|quiver|pilon   -1      4589\n",
    "unitig_63|quiver|quiver|pilon   1       1364\n",
    "unitig_14|quiver|quiver|pilon   1       1579\n",
    "unitig_22|quiver|quiver|pilon   -1      5438\n",
    "unitig_12|quiver|quiver|pilon   1       2395\n",
    "unitig_6|quiver|quiver|pilon    1       12169\n",
    "unitig_20|quiver|quiver|pilon   -1      2310\n",
    "unitig_56|quiver|quiver|pilon   -1      2848\n",
    "unitig_45|quiver|quiver|pilon   -1      -989\n",
    "unitig_36|quiver|quiver|pilon   1       218\n",
    "unitig_29|quiver|quiver|pilon   1       3884\n",
    "unitig_73|quiver|quiver|pilon   1       2144\n",
    "unitig_37|quiver|quiver|pilon   -1      1220\n",
    "unitig_47|quiver|quiver|pilon   1       3153\n",
    "unitig_32|quiver|quiver|pilon   -1      560\n",
    "unitig_10|quiver|quiver|pilon   1       2895\n",
    "unitig_13|quiver|quiver|pilon   1       9152\n",
    "unitig_21|quiver|quiver|pilon   1       2332\n",
    "unitig_39|quiver|quiver|pilon   -1      1677\n",
    "unitig_17|quiver|quiver|pilon   1       513\n",
    "unitig_46|quiver|quiver|pilon   -1      186\n",
    "unitig_28|quiver|quiver|pilon   1       1632\n",
    "unitig_81|quiver|quiver|pilon   1       1446\n",
    "unitig_38|quiver|quiver|pilon   1       430\n",
    "unitig_5|quiver|quiver|pilon    -1      3361\n",
    "unitig_15|quiver|quiver|pilon   1       4156\n",
    "unitig_31|quiver|quiver|pilon   -1      1277\n",
    "unitig_24|quiver|quiver|pilon   1       5933\n",
    "unitig_26|quiver|quiver|pilon   1       1009\n",
    "unitig_11|quiver|quiver|pilon   1       -159\n",
    "unitig_41|quiver|quiver|pilon   -1      -7395\n",
    "unitig_42|quiver|quiver|pilon   1       2338\n",
    "unitig_43|quiver|quiver|pilon   -1      -44\n",
    "unitig_30|quiver|quiver|pilon   -1      1455\n",
    "unitig_49|quiver|quiver|pilon   -1      3094\n",
    "unitig_48|quiver|quiver|pilon   1       0"
   ]
  },
  {
   "cell_type": "code",
   "execution_count": 11,
   "id": "b789c548",
   "metadata": {},
   "outputs": [
    {
     "name": "stdout",
     "output_type": "stream",
     "text": [
      "                          seq_id  revcom    pad\n",
      "0  unitig_18|quiver|quiver|pilon      -1    237\n",
      "1  unitig_54|quiver|quiver|pilon      -1   5542\n",
      "2  unitig_19|quiver|quiver|pilon      -1   -117\n",
      "3  unitig_50|quiver|quiver|pilon      -1    753\n",
      "4  unitig_16|quiver|quiver|pilon      -1 -25977\n",
      "88037\n",
      "(42, 3)\n"
     ]
    }
   ],
   "source": [
    "import pandas as pd\n",
    "from Bio import SeqIO\n",
    "from Bio.SeqRecord import SeqRecord\n",
    "from Bio.Seq import Seq\n",
    "\n",
    "file_in ='Broken-to-be-gapped/Mp7.chrom.fasta'\n",
    "file_out='Broken-to-be-gapped/M7p-chrom-gapped-v2.fasta'\n",
    "\n",
    "df_pad = pd.read_csv(\"Broken-to-be-gapped/M7p.pad\", delimiter=\"\\t\", header=None)\n",
    "df_pad.columns = ['seq_id', 'revcom', 'pad']\n",
    "print(df_pad.head())\n",
    "print(df_pad['pad'].sum())\n",
    "print(df_pad.shape)"
   ]
  },
  {
   "cell_type": "code",
   "execution_count": 12,
   "id": "83b7b788",
   "metadata": {},
   "outputs": [
    {
     "name": "stdout",
     "output_type": "stream",
     "text": [
      "809131\n",
      "88037\n",
      "897168\n"
     ]
    }
   ],
   "source": [
    "seqs = {}\n",
    "for seq_record in SeqIO.parse(open (file_in, mode='r'), 'fasta'):\n",
    "    seqs[seq_record.id] = seq_record\n",
    "\n",
    "seq_str = \"\"\n",
    "contig_len = 0\n",
    "pad_len = 0\n",
    "for index, row in df_pad.iterrows():\n",
    "    id = row['seq_id']\n",
    "    revcom = row['revcom']\n",
    "    pad = row['pad']\n",
    "    \n",
    "    seq_contig = ''\n",
    "    if revcom < 0:\n",
    "        seq_contig = str(seqs[id].reverse_complement().seq)\n",
    "    else:\n",
    "        seq_contig = str(seqs[id].seq)\n",
    "        \n",
    "    contig_len += len(seqs[id].seq)\n",
    "    \n",
    "    # pad or merge\n",
    "    if pad >= 0: # gap, pad N's\n",
    "        for i in range(pad):\n",
    "            seq_contig += 'N'\n",
    "    else: # overlap, merge\n",
    "        if revcom < 0:\n",
    "            seq_contig = seq_contig[abs(pad):] # 4:end (inclusive from 5th, remove 4 bases from revcom start)\n",
    "        else:\n",
    "            seq_contig = seq_contig[:pad] # 0:-4 (remove 4 bases from seq end)          \n",
    "    \n",
    "    seq_str += seq_contig\n",
    "    pad_len += pad\n",
    "        \n",
    "seq_out = SeqRecord(id = \"M7p_chromosome_gapped\", seq = Seq(seq_str))\n",
    "# check sum:\n",
    "print(contig_len)\n",
    "print(pad_len)\n",
    "print(len(seq_str))\n",
    "\n",
    "#with open(file_out, \"w\") as f_out:\n",
    "#    f_out.write(seq_out.format('fasta'))\n"
   ]
  }
 ],
 "metadata": {
  "kernelspec": {
   "display_name": "Python 3 (ipykernel)",
   "language": "python",
   "name": "python3"
  },
  "language_info": {
   "codemirror_mode": {
    "name": "ipython",
    "version": 3
   },
   "file_extension": ".py",
   "mimetype": "text/x-python",
   "name": "python",
   "nbconvert_exporter": "python",
   "pygments_lexer": "ipython3",
   "version": "3.10.8"
  }
 },
 "nbformat": 4,
 "nbformat_minor": 5
}
