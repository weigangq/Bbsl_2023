{
 "cells": [
  {
   "cell_type": "markdown",
   "id": "e73ea305",
   "metadata": {},
   "source": [
    "# stitch chromosomal contigs based on nucmer results\n",
    "Input: a pad file & a fasta file\n",
    "\n",
    "Sherwood (April 7, 2023): Remove wraparound 2337 bp at left end.  Has telomere after this removal.\n",
    "Remove wraparound 6099 bp at right end.  Has telomere after this removal.  Has extension very similar to that of 217_5.\n",
    "\n",
    "Z9.pad:\n",
    "\n",
    "unitig_22|quiver|pilon  -1      1244\n",
    "unitig_18|quiver|pilon  1       1191\n",
    "unitig_27|quiver|pilon  -1      -4\n",
    "unitig_32|quiver|pilon  1       2086\n",
    "unitig_25|quiver|pilon  1       2766\n",
    "unitig_20|quiver|pilon  1       1308\n",
    "unitig_23|quiver|pilon  -1      2958\n",
    "unitig_4|quiver|pilon   -1      1893\n",
    "unitig_11|quiver|pilon  -1      1907\n",
    "unitig_19|quiver|pilon  -1      371\n",
    "unitig_16|quiver|pilon  -1      1869\n",
    "unitig_12|quiver|pilon  1       6222\n",
    "unitig_31|quiver|pilon  1       1061\n",
    "unitig_40|quiver|pilon  1       512\n",
    "unitig_5|quiver|pilon   1       3762\n",
    "unitig_24|quiver|pilon  1       785\n",
    "unitig_36|quiver|pilon  1       457\n",
    "unitig_33|quiver|pilon  1       3320\n",
    "unitig_17|quiver|pilon  -1      1616\n",
    "unitig_28|quiver|pilon  -1      2266\n",
    "unitig_21|quiver|pilon  1       1421\n",
    "unitig_26|quiver|pilon  1       3429\n",
    "unitig_10|quiver|pilon  -1      1024\n",
    "unitig_35|quiver|pilon  1       2306\n",
    "unitig_13|quiver|pilon  1       0"
   ]
  },
  {
   "cell_type": "code",
   "execution_count": 32,
   "id": "b789c548",
   "metadata": {},
   "outputs": [
    {
     "name": "stdout",
     "output_type": "stream",
     "text": [
      "                   seq_id  revcom   pad\n",
      "0  unitig_22|quiver|pilon      -1  1244\n",
      "1  unitig_18|quiver|pilon       1  1191\n",
      "2  unitig_27|quiver|pilon      -1    -4\n",
      "3  unitig_32|quiver|pilon       1  2086\n",
      "4  unitig_25|quiver|pilon       1  2766\n",
      "45770\n"
     ]
    }
   ],
   "source": [
    "import pandas as pd\n",
    "from Bio import SeqIO\n",
    "from Bio.SeqRecord import SeqRecord\n",
    "from Bio.Seq import Seq\n",
    "\n",
    "file_in ='Broken-to-be-gapped/Z9_yang_luft_7.pilon_polishedMay2020.fasta'\n",
    "file_out='Broken-to-be-gapped/Z9-chrom-gapped-v2.fasta'\n",
    "\n",
    "df_pad = pd.read_csv(\"Broken-to-be-gapped/Z9.pad\", delimiter=\"\\t\", header=None)\n",
    "df_pad.columns = ['seq_id', 'revcom', 'pad']\n",
    "print(df_pad.head())\n",
    "print(df_pad['pad'].sum())\n"
   ]
  },
  {
   "cell_type": "code",
   "execution_count": 35,
   "id": "83b7b788",
   "metadata": {},
   "outputs": [
    {
     "name": "stdout",
     "output_type": "stream",
     "text": [
      "872737\n",
      "45770\n",
      "910071\n"
     ]
    }
   ],
   "source": [
    "seqs = {}\n",
    "for seq_record in SeqIO.parse(open (file_in, mode='r'), 'fasta'):\n",
    "    seqs[seq_record.id] = seq_record\n",
    "\n",
    "seq_str = \"\"\n",
    "contig_len = 0\n",
    "pad_len = 0\n",
    "for index, row in df_pad.iterrows():\n",
    "    id = row['seq_id']\n",
    "    revcom = row['revcom']\n",
    "    pad = row['pad']\n",
    "    \n",
    "    seq_contig = ''\n",
    "    if revcom < 0:\n",
    "        seq_contig = str(seqs[id].reverse_complement().seq)\n",
    "    else:\n",
    "        seq_contig = str(seqs[id].seq)\n",
    "        \n",
    "    contig_len += len(seqs[id].seq)\n",
    "    \n",
    "    # pad or merge\n",
    "    if pad >= 0: # gap, pad N's\n",
    "        for i in range(pad):\n",
    "            seq_contig += 'N'\n",
    "    else: # overlap, merge\n",
    "        if revcom < 0:\n",
    "            seq_contig = seq_contig[abs(pad):] # 4:end (inclusive from 5th, remove 4 bases from revcom start)\n",
    "        else:\n",
    "            seq_contig = seq_contig[:pad] # 0:-4 (remove 4 bases from seq end)          \n",
    "    \n",
    "    seq_str += seq_contig\n",
    "    pad_len += pad\n",
    "\n",
    "# remove wrap-arounds 2337 at left and 6099 at right:\n",
    "seq_str = seq_str[2337:-6099]\n",
    "\n",
    "seq_out = SeqRecord(id = \"Z9_chromosome_gapped\", seq = Seq(seq_str))\n",
    "# check sum:\n",
    "print(contig_len)\n",
    "print(pad_len)\n",
    "print(len(seq_str))\n",
    "\n",
    "with open(file_out, \"w\") as f_out:\n",
    "    f_out.write(seq_out.format('fasta'))\n"
   ]
  }
 ],
 "metadata": {
  "kernelspec": {
   "display_name": "Python 3 (ipykernel)",
   "language": "python",
   "name": "python3"
  },
  "language_info": {
   "codemirror_mode": {
    "name": "ipython",
    "version": 3
   },
   "file_extension": ".py",
   "mimetype": "text/x-python",
   "name": "python",
   "nbconvert_exporter": "python",
   "pygments_lexer": "ipython3",
   "version": "3.10.8"
  }
 },
 "nbformat": 4,
 "nbformat_minor": 5
}
