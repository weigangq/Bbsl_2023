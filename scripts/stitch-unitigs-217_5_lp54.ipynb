{
 "cells": [
  {
   "cell_type": "markdown",
   "id": "4db34dec",
   "metadata": {},
   "source": [
    "# stitch chromosomal contigs based on nucmer results\n",
    "Input: a pad file & a fasta file"
   ]
  },
  {
   "cell_type": "code",
   "execution_count": 1,
   "id": "a0e6fa5b",
   "metadata": {},
   "outputs": [
    {
     "data": {
      "text/html": [
       "<div>\n",
       "<style scoped>\n",
       "    .dataframe tbody tr th:only-of-type {\n",
       "        vertical-align: middle;\n",
       "    }\n",
       "\n",
       "    .dataframe tbody tr th {\n",
       "        vertical-align: top;\n",
       "    }\n",
       "\n",
       "    .dataframe thead th {\n",
       "        text-align: right;\n",
       "    }\n",
       "</style>\n",
       "<table border=\"1\" class=\"dataframe\">\n",
       "  <thead>\n",
       "    <tr style=\"text-align: right;\">\n",
       "      <th></th>\n",
       "      <th>seq_id</th>\n",
       "      <th>revcom</th>\n",
       "      <th>pad</th>\n",
       "    </tr>\n",
       "  </thead>\n",
       "  <tbody>\n",
       "    <tr>\n",
       "      <th>0</th>\n",
       "      <td>217_5_lp54-leftend_fragment_final_SRC</td>\n",
       "      <td>1</td>\n",
       "      <td>210</td>\n",
       "    </tr>\n",
       "    <tr>\n",
       "      <th>1</th>\n",
       "      <td>217_5_lp54-rightend_fragment_final_SRC</td>\n",
       "      <td>1</td>\n",
       "      <td>0</td>\n",
       "    </tr>\n",
       "  </tbody>\n",
       "</table>\n",
       "</div>"
      ],
      "text/plain": [
       "                                   seq_id  revcom  pad\n",
       "0   217_5_lp54-leftend_fragment_final_SRC       1  210\n",
       "1  217_5_lp54-rightend_fragment_final_SRC       1    0"
      ]
     },
     "execution_count": 1,
     "metadata": {},
     "output_type": "execute_result"
    }
   ],
   "source": [
    "import pandas as pd\n",
    "from Bio import SeqIO\n",
    "from Bio.SeqRecord import SeqRecord\n",
    "from Bio.Seq import Seq\n",
    "\n",
    "file_in ='Broken-to-be-gapped/217_5_lp54_twoContigs_final_SRC.fasta'\n",
    "file_out='Broken-to-be-gapped/217_5_lp54-gapped.fasta'\n",
    "\n",
    "df_pad = pd.read_csv(\"Broken-to-be-gapped/217_5_lp54.pad\", delimiter=\"\\t\", header=None)\n",
    "df_pad.columns = ['seq_id', 'revcom', 'pad']\n",
    "df_pad.head()"
   ]
  },
  {
   "cell_type": "code",
   "execution_count": 3,
   "id": "bc237653",
   "metadata": {},
   "outputs": [
    {
     "name": "stdout",
     "output_type": "stream",
     "text": [
      "52216\n",
      "210\n",
      "52426\n"
     ]
    }
   ],
   "source": [
    "seqs = {}\n",
    "for seq_record in SeqIO.parse(open (file_in, mode='r'), 'fasta'):\n",
    "    seqs[seq_record.id] = seq_record\n",
    "\n",
    "seq_str = \"\"\n",
    "contig_len = 0\n",
    "pad_len = 0\n",
    "for index, row in df_pad.iterrows():\n",
    "    id = row['seq_id']\n",
    "    revcom = row['revcom']\n",
    "    pad = row['pad']\n",
    "    \n",
    "    if revcom < 0:\n",
    "        seq_str += str(seqs[id].reverse_complement().seq)\n",
    "    else:\n",
    "        seq_str += str(seqs[id].seq)\n",
    "    \n",
    "    contig_len += len(seqs[id].seq)\n",
    "        \n",
    "    for i in range(abs(pad)):\n",
    "        seq_str += 'N'\n",
    "        pad_len += 1\n",
    "        \n",
    "seq_out = SeqRecord(id = \"217_5_lp54_gapped\", seq = Seq(seq_str))\n",
    "print(contig_len)\n",
    "print(pad_len)\n",
    "print(len(seq_str))\n",
    "\n",
    "#with open(file_out, \"w\") as f_out:\n",
    "#    f_out.write(seq_out.format('fasta'))\n"
   ]
  }
 ],
 "metadata": {
  "kernelspec": {
   "display_name": "Python 3 (ipykernel)",
   "language": "python",
   "name": "python3"
  },
  "language_info": {
   "codemirror_mode": {
    "name": "ipython",
    "version": 3
   },
   "file_extension": ".py",
   "mimetype": "text/x-python",
   "name": "python",
   "nbconvert_exporter": "python",
   "pygments_lexer": "ipython3",
   "version": "3.10.8"
  }
 },
 "nbformat": 4,
 "nbformat_minor": 5
}
