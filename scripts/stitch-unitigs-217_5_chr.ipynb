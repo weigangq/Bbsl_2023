{
 "cells": [
  {
   "cell_type": "markdown",
   "id": "4db34dec",
   "metadata": {},
   "source": [
    "# stitch chromosomal contigs based on nucmer results\n",
    "Input: a pad file & a fasta file\n",
    "\n",
    "Sherwood (April 7, 2023): Remove 25 bp wraparound at left end;  has telomere here after removal\n",
    "No telomere consensus at right end; it has N’s at right end.\n",
    "\n",
    "217_5_chr.pad:\n",
    "\n",
    "unitig_12|quiver|quiver|pilon   1       1629\n",
    "unitig_14|quiver|quiver|pilon   -1      2601\n",
    "unitig_1|quiver|quiver|pilon    -1      2382\n",
    "unitig_3|quiver|quiver|pilon    -1      5523\n",
    "unitig_0|quiver|quiver|pilon    -1      1272\n",
    "unitig_2|quiver|quiver|pilon    1       1383\n",
    "unitig_13|quiver|quiver|pilon   -1      1419\n",
    "unitig_11|quiver|quiver|pilon   1       820\n",
    "unitig_15|quiver|quiver|pilon   1       0"
   ]
  },
  {
   "cell_type": "code",
   "execution_count": 6,
   "id": "a0e6fa5b",
   "metadata": {},
   "outputs": [
    {
     "name": "stdout",
     "output_type": "stream",
     "text": [
      "17029\n"
     ]
    }
   ],
   "source": [
    "import pandas as pd\n",
    "from Bio import SeqIO\n",
    "from Bio.SeqRecord import SeqRecord\n",
    "from Bio.Seq import Seq\n",
    "\n",
    "file_in ='Broken-to-be-gapped/217_5_yang_luft_8_chrom.fasta'\n",
    "file_out='Broken-to-be-gapped/217_5_chrom-gapped-v2.fasta'\n",
    "\n",
    "df_pad = pd.read_csv(\"Broken-to-be-gapped/217_5_chr.pad\", delimiter=\"\\t\", header=None)\n",
    "df_pad.columns = ['seq_id', 'revcom', 'pad']\n",
    "df_pad.head()\n",
    "print(df_pad['pad'].sum())"
   ]
  },
  {
   "cell_type": "code",
   "execution_count": 7,
   "id": "bc237653",
   "metadata": {},
   "outputs": [
    {
     "name": "stdout",
     "output_type": "stream",
     "text": [
      "892794\n",
      "17029\n",
      "909798\n"
     ]
    }
   ],
   "source": [
    "seqs = {}\n",
    "for seq_record in SeqIO.parse(open (file_in, mode='r'), 'fasta'):\n",
    "    seqs[seq_record.id] = seq_record\n",
    "\n",
    "seq_str = \"\"\n",
    "contig_len = 0\n",
    "pad_len = 0\n",
    "for index, row in df_pad.iterrows():\n",
    "    id = row['seq_id']\n",
    "    revcom = row['revcom']\n",
    "    pad = row['pad']\n",
    "    \n",
    "    if revcom < 0:\n",
    "        seq_str += str(seqs[id].reverse_complement().seq)\n",
    "    else:\n",
    "        seq_str += str(seqs[id].seq)\n",
    "    \n",
    "    contig_len += len(seqs[id].seq)\n",
    "        \n",
    "    for i in range(pad):\n",
    "        seq_str += 'N'\n",
    "        pad_len += 1\n",
    "\n",
    "# remove wrap-around left 25 bp:\n",
    "seq_str = seq_str[25:]\n",
    "\n",
    "seq_out = SeqRecord(id = \"217_5_chrom_gapped\", seq = Seq(seq_str))\n",
    "print(contig_len)\n",
    "print(pad_len)\n",
    "print(len(seq_str))\n",
    "\n",
    "with open(file_out, \"w\") as f_out:\n",
    "    f_out.write(seq_out.format('fasta'))\n"
   ]
  }
 ],
 "metadata": {
  "kernelspec": {
   "display_name": "Python 3 (ipykernel)",
   "language": "python",
   "name": "python3"
  },
  "language_info": {
   "codemirror_mode": {
    "name": "ipython",
    "version": 3
   },
   "file_extension": ".py",
   "mimetype": "text/x-python",
   "name": "python",
   "nbconvert_exporter": "python",
   "pygments_lexer": "ipython3",
   "version": "3.10.8"
  }
 },
 "nbformat": 4,
 "nbformat_minor": 5
}
